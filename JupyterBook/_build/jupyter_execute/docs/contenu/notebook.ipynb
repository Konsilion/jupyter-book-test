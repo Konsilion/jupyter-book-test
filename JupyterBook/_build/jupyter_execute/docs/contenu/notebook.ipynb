{
 "cells": [
  {
   "cell_type": "code",
   "execution_count": 1,
   "id": "90d5e2ab-eaf3-4fc5-8274-1c8b4420a4bf",
   "metadata": {},
   "outputs": [
    {
     "ename": "SyntaxError",
     "evalue": "invalid syntax (193226809.py, line 1)",
     "output_type": "error",
     "traceback": [
      "\u001b[0;36m  Cell \u001b[0;32mIn[1], line 1\u001b[0;36m\u001b[0m\n\u001b[0;31m    ---\u001b[0m\n\u001b[0m       ^\u001b[0m\n\u001b[0;31mSyntaxError\u001b[0m\u001b[0;31m:\u001b[0m invalid syntax\n"
     ]
    }
   ],
   "source": [
    "---\n",
    "hide:\n",
    "  - toc\n",
    "---\n"
   ]
  },
  {
   "cell_type": "markdown",
   "id": "e2f65628-ef43-49de-9a72-544dc1c406fc",
   "metadata": {
    "editable": true,
    "slideshow": {
     "slide_type": ""
    },
    "tags": []
   },
   "source": [
    "# Premier notebook"
   ]
  },
  {
   "cell_type": "code",
   "execution_count": 1,
   "id": "3ab247af-1a98-4da3-8d4a-8322537874fa",
   "metadata": {},
   "outputs": [
    {
     "name": "stdout",
     "output_type": "stream",
     "text": [
      "5\n"
     ]
    }
   ],
   "source": [
    "a=2\n",
    "b=3\n",
    "c=a+b\n",
    "\n",
    "print(c)"
   ]
  },
  {
   "cell_type": "markdown",
   "id": "96684bcf-010f-49ed-8fc3-e41587bbb1bb",
   "metadata": {},
   "source": [
    "## Mkiezf"
   ]
  },
  {
   "cell_type": "code",
   "execution_count": null,
   "id": "d0b090b7-d440-4ba7-87c7-da77e6925db9",
   "metadata": {},
   "outputs": [],
   "source": [
    "dsfdsfq"
   ]
  },
  {
   "cell_type": "markdown",
   "id": "4e034b62-4a8b-46e0-97a2-3155ad391063",
   "metadata": {},
   "source": [
    "## BJknjkz"
   ]
  }
 ],
 "metadata": {
  "kernelspec": {
   "display_name": "Python 3 (ipykernel)",
   "language": "python",
   "name": "python3"
  },
  "language_info": {
   "codemirror_mode": {
    "name": "ipython",
    "version": 3
   },
   "file_extension": ".py",
   "mimetype": "text/x-python",
   "name": "python",
   "nbconvert_exporter": "python",
   "pygments_lexer": "ipython3",
   "version": "3.12.2"
  }
 },
 "nbformat": 4,
 "nbformat_minor": 5
}